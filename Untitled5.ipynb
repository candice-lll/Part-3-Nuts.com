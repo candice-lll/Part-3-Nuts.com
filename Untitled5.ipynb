{
 "cells": [
  {
   "cell_type": "markdown",
   "metadata": {},
   "source": [
    "# Part 3"
   ]
  },
  {
   "cell_type": "markdown",
   "metadata": {},
   "source": [
    "In this project, we are going to answer the question based on the historical data--when is the best time to\n",
    "go to the market to procure cashews and why?"
   ]
  },
  {
   "cell_type": "code",
   "execution_count": 1,
   "metadata": {},
   "outputs": [],
   "source": [
    "import pandas as pd\n",
    "import numpy as ny\n",
    "import matplotlib.pyplot as plt\n",
    "import seaborn as sns\n",
    "%matplotlib inline"
   ]
  },
  {
   "cell_type": "code",
   "execution_count": 2,
   "metadata": {},
   "outputs": [
    {
     "name": "stdout",
     "output_type": "stream",
     "text": [
      "<class 'pandas.core.frame.DataFrame'>\n",
      "RangeIndex: 448 entries, 0 to 447\n",
      "Data columns (total 14 columns):\n",
      "Date                448 non-null object\n",
      "truckid             448 non-null object\n",
      "bag_qty             448 non-null int64\n",
      "net_weight          448 non-null int64\n",
      "originid            448 non-null int64\n",
      "supplierid          448 non-null int64\n",
      "moisture            448 non-null float64\n",
      "nut_count           448 non-null int64\n",
      "outturn             448 non-null float64\n",
      "defective_weight    242 non-null float64\n",
      "price               448 non-null int64\n",
      "year                448 non-null int64\n",
      "month               448 non-null int64\n",
      "day                 448 non-null int64\n",
      "dtypes: float64(3), int64(9), object(2)\n",
      "memory usage: 49.1+ KB\n"
     ]
    }
   ],
   "source": [
    "p3=pd.read_csv('part_3.csv')\n",
    "p3.info()"
   ]
  },
  {
   "cell_type": "code",
   "execution_count": 3,
   "metadata": {},
   "outputs": [
    {
     "data": {
      "text/html": [
       "<div>\n",
       "<style scoped>\n",
       "    .dataframe tbody tr th:only-of-type {\n",
       "        vertical-align: middle;\n",
       "    }\n",
       "\n",
       "    .dataframe tbody tr th {\n",
       "        vertical-align: top;\n",
       "    }\n",
       "\n",
       "    .dataframe thead th {\n",
       "        text-align: right;\n",
       "    }\n",
       "</style>\n",
       "<table border=\"1\" class=\"dataframe\">\n",
       "  <thead>\n",
       "    <tr style=\"text-align: right;\">\n",
       "      <th></th>\n",
       "      <th>Date</th>\n",
       "      <th>truckid</th>\n",
       "      <th>bag_qty</th>\n",
       "      <th>net_weight</th>\n",
       "      <th>originid</th>\n",
       "      <th>supplierid</th>\n",
       "      <th>moisture</th>\n",
       "      <th>nut_count</th>\n",
       "      <th>outturn</th>\n",
       "      <th>defective_weight</th>\n",
       "      <th>price</th>\n",
       "      <th>year</th>\n",
       "      <th>month</th>\n",
       "      <th>day</th>\n",
       "    </tr>\n",
       "  </thead>\n",
       "  <tbody>\n",
       "    <tr>\n",
       "      <th>0</th>\n",
       "      <td>11/18/2018</td>\n",
       "      <td>8111GB01</td>\n",
       "      <td>201</td>\n",
       "      <td>18567</td>\n",
       "      <td>32</td>\n",
       "      <td>32</td>\n",
       "      <td>13.00</td>\n",
       "      <td>190</td>\n",
       "      <td>47.43</td>\n",
       "      <td>14.09</td>\n",
       "      <td>525</td>\n",
       "      <td>2018</td>\n",
       "      <td>11</td>\n",
       "      <td>18</td>\n",
       "    </tr>\n",
       "    <tr>\n",
       "      <th>1</th>\n",
       "      <td>11/19/2018</td>\n",
       "      <td>269EG02</td>\n",
       "      <td>464</td>\n",
       "      <td>40148</td>\n",
       "      <td>66</td>\n",
       "      <td>43</td>\n",
       "      <td>11.60</td>\n",
       "      <td>195</td>\n",
       "      <td>47.69</td>\n",
       "      <td>12.40</td>\n",
       "      <td>550</td>\n",
       "      <td>2018</td>\n",
       "      <td>11</td>\n",
       "      <td>19</td>\n",
       "    </tr>\n",
       "    <tr>\n",
       "      <th>2</th>\n",
       "      <td>11/20/2018</td>\n",
       "      <td>2081GA03</td>\n",
       "      <td>376</td>\n",
       "      <td>35584</td>\n",
       "      <td>82</td>\n",
       "      <td>107</td>\n",
       "      <td>8.53</td>\n",
       "      <td>198</td>\n",
       "      <td>46.46</td>\n",
       "      <td>12.20</td>\n",
       "      <td>575</td>\n",
       "      <td>2018</td>\n",
       "      <td>11</td>\n",
       "      <td>20</td>\n",
       "    </tr>\n",
       "    <tr>\n",
       "      <th>3</th>\n",
       "      <td>11/21/2018</td>\n",
       "      <td>7633FU02</td>\n",
       "      <td>467</td>\n",
       "      <td>40817</td>\n",
       "      <td>66</td>\n",
       "      <td>43</td>\n",
       "      <td>12.60</td>\n",
       "      <td>200</td>\n",
       "      <td>45.84</td>\n",
       "      <td>15.60</td>\n",
       "      <td>580</td>\n",
       "      <td>2018</td>\n",
       "      <td>11</td>\n",
       "      <td>21</td>\n",
       "    </tr>\n",
       "    <tr>\n",
       "      <th>4</th>\n",
       "      <td>11/22/2018</td>\n",
       "      <td>4376AY01</td>\n",
       "      <td>271</td>\n",
       "      <td>26433</td>\n",
       "      <td>32</td>\n",
       "      <td>32</td>\n",
       "      <td>11.90</td>\n",
       "      <td>185</td>\n",
       "      <td>48.04</td>\n",
       "      <td>9.90</td>\n",
       "      <td>550</td>\n",
       "      <td>2018</td>\n",
       "      <td>11</td>\n",
       "      <td>22</td>\n",
       "    </tr>\n",
       "  </tbody>\n",
       "</table>\n",
       "</div>"
      ],
      "text/plain": [
       "         Date   truckid  bag_qty  net_weight  originid  supplierid  moisture  \\\n",
       "0  11/18/2018  8111GB01      201       18567        32          32     13.00   \n",
       "1  11/19/2018   269EG02      464       40148        66          43     11.60   \n",
       "2  11/20/2018  2081GA03      376       35584        82         107      8.53   \n",
       "3  11/21/2018  7633FU02      467       40817        66          43     12.60   \n",
       "4  11/22/2018  4376AY01      271       26433        32          32     11.90   \n",
       "\n",
       "   nut_count  outturn  defective_weight  price  year  month  day  \n",
       "0        190    47.43             14.09    525  2018     11   18  \n",
       "1        195    47.69             12.40    550  2018     11   19  \n",
       "2        198    46.46             12.20    575  2018     11   20  \n",
       "3        200    45.84             15.60    580  2018     11   21  \n",
       "4        185    48.04              9.90    550  2018     11   22  "
      ]
     },
     "execution_count": 3,
     "metadata": {},
     "output_type": "execute_result"
    }
   ],
   "source": [
    "p3.head()"
   ]
  },
  {
   "cell_type": "markdown",
   "metadata": {},
   "source": [
    "We need to change data type of Date column since it is not a datetime. Others columns are good.\n",
    "Due to lack of data definition, I will take price as a unit price."
   ]
  },
  {
   "cell_type": "markdown",
   "metadata": {},
   "source": [
    "## Organizing the data set"
   ]
  },
  {
   "cell_type": "code",
   "execution_count": 4,
   "metadata": {},
   "outputs": [
    {
     "name": "stdout",
     "output_type": "stream",
     "text": [
      "<class 'pandas.core.frame.DataFrame'>\n",
      "RangeIndex: 448 entries, 0 to 447\n",
      "Data columns (total 14 columns):\n",
      "Date                448 non-null datetime64[ns]\n",
      "truckid             448 non-null object\n",
      "bag_qty             448 non-null int64\n",
      "net_weight          448 non-null int64\n",
      "originid            448 non-null int64\n",
      "supplierid          448 non-null int64\n",
      "moisture            448 non-null float64\n",
      "nut_count           448 non-null int64\n",
      "outturn             448 non-null float64\n",
      "defective_weight    242 non-null float64\n",
      "price               448 non-null int64\n",
      "year                448 non-null int64\n",
      "month               448 non-null int64\n",
      "day                 448 non-null int64\n",
      "dtypes: datetime64[ns](1), float64(3), int64(9), object(1)\n",
      "memory usage: 49.1+ KB\n"
     ]
    }
   ],
   "source": [
    "p3['Date'] = pd.to_datetime(p3['Date'])\n",
    "p3.info()"
   ]
  },
  {
   "cell_type": "code",
   "execution_count": 5,
   "metadata": {},
   "outputs": [
    {
     "data": {
      "text/html": [
       "<div>\n",
       "<style scoped>\n",
       "    .dataframe tbody tr th:only-of-type {\n",
       "        vertical-align: middle;\n",
       "    }\n",
       "\n",
       "    .dataframe tbody tr th {\n",
       "        vertical-align: top;\n",
       "    }\n",
       "\n",
       "    .dataframe thead th {\n",
       "        text-align: right;\n",
       "    }\n",
       "</style>\n",
       "<table border=\"1\" class=\"dataframe\">\n",
       "  <thead>\n",
       "    <tr style=\"text-align: right;\">\n",
       "      <th></th>\n",
       "      <th>Date</th>\n",
       "      <th>truckid</th>\n",
       "      <th>bag_qty</th>\n",
       "      <th>net_weight</th>\n",
       "      <th>originid</th>\n",
       "      <th>supplierid</th>\n",
       "      <th>moisture</th>\n",
       "      <th>nut_count</th>\n",
       "      <th>outturn</th>\n",
       "      <th>defective_weight</th>\n",
       "      <th>price</th>\n",
       "      <th>year</th>\n",
       "      <th>month</th>\n",
       "      <th>day</th>\n",
       "      <th>Quarter</th>\n",
       "    </tr>\n",
       "  </thead>\n",
       "  <tbody>\n",
       "    <tr>\n",
       "      <th>0</th>\n",
       "      <td>2018-11-18</td>\n",
       "      <td>8111GB01</td>\n",
       "      <td>201</td>\n",
       "      <td>18567</td>\n",
       "      <td>32</td>\n",
       "      <td>32</td>\n",
       "      <td>13.00</td>\n",
       "      <td>190</td>\n",
       "      <td>47.43</td>\n",
       "      <td>14.09</td>\n",
       "      <td>525</td>\n",
       "      <td>2018</td>\n",
       "      <td>11</td>\n",
       "      <td>18</td>\n",
       "      <td>18Q4</td>\n",
       "    </tr>\n",
       "    <tr>\n",
       "      <th>1</th>\n",
       "      <td>2018-11-19</td>\n",
       "      <td>269EG02</td>\n",
       "      <td>464</td>\n",
       "      <td>40148</td>\n",
       "      <td>66</td>\n",
       "      <td>43</td>\n",
       "      <td>11.60</td>\n",
       "      <td>195</td>\n",
       "      <td>47.69</td>\n",
       "      <td>12.40</td>\n",
       "      <td>550</td>\n",
       "      <td>2018</td>\n",
       "      <td>11</td>\n",
       "      <td>19</td>\n",
       "      <td>18Q4</td>\n",
       "    </tr>\n",
       "    <tr>\n",
       "      <th>2</th>\n",
       "      <td>2018-11-20</td>\n",
       "      <td>2081GA03</td>\n",
       "      <td>376</td>\n",
       "      <td>35584</td>\n",
       "      <td>82</td>\n",
       "      <td>107</td>\n",
       "      <td>8.53</td>\n",
       "      <td>198</td>\n",
       "      <td>46.46</td>\n",
       "      <td>12.20</td>\n",
       "      <td>575</td>\n",
       "      <td>2018</td>\n",
       "      <td>11</td>\n",
       "      <td>20</td>\n",
       "      <td>18Q4</td>\n",
       "    </tr>\n",
       "    <tr>\n",
       "      <th>3</th>\n",
       "      <td>2018-11-21</td>\n",
       "      <td>7633FU02</td>\n",
       "      <td>467</td>\n",
       "      <td>40817</td>\n",
       "      <td>66</td>\n",
       "      <td>43</td>\n",
       "      <td>12.60</td>\n",
       "      <td>200</td>\n",
       "      <td>45.84</td>\n",
       "      <td>15.60</td>\n",
       "      <td>580</td>\n",
       "      <td>2018</td>\n",
       "      <td>11</td>\n",
       "      <td>21</td>\n",
       "      <td>18Q4</td>\n",
       "    </tr>\n",
       "    <tr>\n",
       "      <th>4</th>\n",
       "      <td>2018-11-22</td>\n",
       "      <td>4376AY01</td>\n",
       "      <td>271</td>\n",
       "      <td>26433</td>\n",
       "      <td>32</td>\n",
       "      <td>32</td>\n",
       "      <td>11.90</td>\n",
       "      <td>185</td>\n",
       "      <td>48.04</td>\n",
       "      <td>9.90</td>\n",
       "      <td>550</td>\n",
       "      <td>2018</td>\n",
       "      <td>11</td>\n",
       "      <td>22</td>\n",
       "      <td>18Q4</td>\n",
       "    </tr>\n",
       "  </tbody>\n",
       "</table>\n",
       "</div>"
      ],
      "text/plain": [
       "        Date   truckid  bag_qty  net_weight  originid  supplierid  moisture  \\\n",
       "0 2018-11-18  8111GB01      201       18567        32          32     13.00   \n",
       "1 2018-11-19   269EG02      464       40148        66          43     11.60   \n",
       "2 2018-11-20  2081GA03      376       35584        82         107      8.53   \n",
       "3 2018-11-21  7633FU02      467       40817        66          43     12.60   \n",
       "4 2018-11-22  4376AY01      271       26433        32          32     11.90   \n",
       "\n",
       "   nut_count  outturn  defective_weight  price  year  month  day Quarter  \n",
       "0        190    47.43             14.09    525  2018     11   18    18Q4  \n",
       "1        195    47.69             12.40    550  2018     11   19    18Q4  \n",
       "2        198    46.46             12.20    575  2018     11   20    18Q4  \n",
       "3        200    45.84             15.60    580  2018     11   21    18Q4  \n",
       "4        185    48.04              9.90    550  2018     11   22    18Q4  "
      ]
     },
     "execution_count": 5,
     "metadata": {},
     "output_type": "execute_result"
    }
   ],
   "source": [
    "#Create a column to show quarter so we can use it for data visulization to understand the trend\n",
    "def qua(datetime):\n",
    "    year=str(datetime.year)[-2:]\n",
    "    quarter=str(((datetime.month-1)//3)+1)\n",
    "    return '{y}Q{q}'.format(y=year,q=quarter)\n",
    "\n",
    "p3['Quarter']=p3['Date'].apply(qua)\n",
    "p3.head()"
   ]
  },
  {
   "cell_type": "markdown",
   "metadata": {},
   "source": [
    "## Finding Correlations"
   ]
  },
  {
   "cell_type": "code",
   "execution_count": 6,
   "metadata": {},
   "outputs": [
    {
     "name": "stdout",
     "output_type": "stream",
     "text": [
      "bag_qty             0.272594\n",
      "net_weight          0.188575\n",
      "originid            0.047314\n",
      "supplierid         -0.039061\n",
      "moisture            0.220270\n",
      "nut_count          -0.456136\n",
      "outturn             0.130570\n",
      "defective_weight    0.131357\n",
      "price               1.000000\n",
      "year                0.617926\n",
      "month               0.168976\n",
      "day                -0.008162\n",
      "Name: price, dtype: float64\n"
     ]
    }
   ],
   "source": [
    "correlations=p3.corr()\n",
    "correlations=correlations['price']\n",
    "print(correlations)"
   ]
  },
  {
   "cell_type": "markdown",
   "metadata": {},
   "source": [
    "## Plotting Survey Correlations"
   ]
  },
  {
   "cell_type": "code",
   "execution_count": 7,
   "metadata": {},
   "outputs": [
    {
     "data": {
      "text/plain": [
       "<matplotlib.lines.Line2D at 0x1a19198dd0>"
      ]
     },
     "execution_count": 7,
     "metadata": {},
     "output_type": "execute_result"
    },
    {
     "data": {
      "image/png": "[encoded data removed]",
      "text/plain": [
       "<Figure size 720x432 with 1 Axes>"
      ]
     },
     "metadata": {
      "needs_background": "light"
     },
     "output_type": "display_data"
    }
   ],
   "source": [
    "plt.figure(figsize=(10,6))\n",
    "colors=['red' if (x>0.3) else 'darkgreen' for x in p3.corr()['price']]\n",
    "ax=p3.corr()['price'].plot.bar(color=colors,title='Correlation of Price and All Feactors')\n",
    "ax.axhline(y=0.0,color='black',linestyle='-',linewidth=1)\n",
    "\n"
   ]
  },
  {
   "cell_type": "markdown",
   "metadata": {},
   "source": [
    "From above chart, we can see price has significant postive relation with time. Speak accurately, it has significant relathion with year. Next I will focuse on analysing relation between time and price.\n",
    "\n",
    "Knowing that as year grows, price goes higher, I am interested in what is the growth pattern in a year, which means that I need to find out the price volatility in a year."
   ]
  },
  {
   "cell_type": "markdown",
   "metadata": {},
   "source": [
    "Firstly, we can look at the price at quarter level to find out which quarter has the lower price."
   ]
  },
  {
   "cell_type": "code",
   "execution_count": 8,
   "metadata": {},
   "outputs": [
    {
     "data": {
      "text/html": [
       "<div>\n",
       "<style scoped>\n",
       "    .dataframe tbody tr th:only-of-type {\n",
       "        vertical-align: middle;\n",
       "    }\n",
       "\n",
       "    .dataframe tbody tr th {\n",
       "        vertical-align: top;\n",
       "    }\n",
       "\n",
       "    .dataframe thead th {\n",
       "        text-align: right;\n",
       "    }\n",
       "</style>\n",
       "<table border=\"1\" class=\"dataframe\">\n",
       "  <thead>\n",
       "    <tr style=\"text-align: right;\">\n",
       "      <th></th>\n",
       "      <th>Quarter</th>\n",
       "      <th>total_price</th>\n",
       "      <th>order_times</th>\n",
       "      <th>avg_price</th>\n",
       "    </tr>\n",
       "  </thead>\n",
       "  <tbody>\n",
       "    <tr>\n",
       "      <th>0</th>\n",
       "      <td>18Q4</td>\n",
       "      <td>26360</td>\n",
       "      <td>44</td>\n",
       "      <td>599.090909</td>\n",
       "    </tr>\n",
       "    <tr>\n",
       "      <th>1</th>\n",
       "      <td>19Q1</td>\n",
       "      <td>60535</td>\n",
       "      <td>90</td>\n",
       "      <td>672.611111</td>\n",
       "    </tr>\n",
       "    <tr>\n",
       "      <th>2</th>\n",
       "      <td>19Q2</td>\n",
       "      <td>60705</td>\n",
       "      <td>91</td>\n",
       "      <td>667.087912</td>\n",
       "    </tr>\n",
       "    <tr>\n",
       "      <th>3</th>\n",
       "      <td>19Q3</td>\n",
       "      <td>70450</td>\n",
       "      <td>92</td>\n",
       "      <td>765.760870</td>\n",
       "    </tr>\n",
       "    <tr>\n",
       "      <th>4</th>\n",
       "      <td>19Q4</td>\n",
       "      <td>81375</td>\n",
       "      <td>92</td>\n",
       "      <td>884.510870</td>\n",
       "    </tr>\n",
       "    <tr>\n",
       "      <th>5</th>\n",
       "      <td>20Q1</td>\n",
       "      <td>36750</td>\n",
       "      <td>39</td>\n",
       "      <td>942.307692</td>\n",
       "    </tr>\n",
       "  </tbody>\n",
       "</table>\n",
       "</div>"
      ],
      "text/plain": [
       "  Quarter  total_price  order_times   avg_price\n",
       "0    18Q4        26360           44  599.090909\n",
       "1    19Q1        60535           90  672.611111\n",
       "2    19Q2        60705           91  667.087912\n",
       "3    19Q3        70450           92  765.760870\n",
       "4    19Q4        81375           92  884.510870\n",
       "5    20Q1        36750           39  942.307692"
      ]
     },
     "execution_count": 8,
     "metadata": {},
     "output_type": "execute_result"
    }
   ],
   "source": [
    "#Create a table to show total order times and total order price in each quarter\n",
    "quarterly=p3.groupby('Quarter').agg({'price':['sum','size']})\n",
    "quarterly.columns=['total_price','order_times']\n",
    "quarterly.reset_index(inplace=True)\n",
    "quarterly['avg_price']=quarterly['total_price']/quarterly['order_times']\n",
    "quarterly"
   ]
  },
  {
   "cell_type": "code",
   "execution_count": 9,
   "metadata": {},
   "outputs": [
    {
     "data": {
      "image/png": "[encoded data removed]",
      "text/plain": [
       "<Figure size 936x360 with 2 Axes>"
      ]
     },
     "metadata": {
      "needs_background": "light"
     },
     "output_type": "display_data"
    }
   ],
   "source": [
    "ax1=quarterly.plot(kind='line',x='Quarter',y='avg_price',marker='o',figsize=(13,5))\n",
    "ax2=quarterly.plot(x=\"Quarter\", y=\"order_times\",color='green',\n",
    "                     kind=\"bar\", ax=ax1, secondary_y=True, alpha=0.7, rot=45)"
   ]
  },
  {
   "cell_type": "markdown",
   "metadata": {},
   "source": [
    "Due to data limitation, we can't compare which quarter has the lowest average price year to year. However, if we only look at year 2019, we can see 19Q2 has the lowest average price compared with other quarters in year 2019. 19Q2 has a higher order times but lower average price compared with 19Q1. Compared with 19Q3 and 19Q4, order times are the same but the averger price increased.\n",
    "\n",
    "Next we can dig deeper on the data set to find out what month and what date has the lowerst price. "
   ]
  },
  {
   "cell_type": "code",
   "execution_count": 10,
   "metadata": {},
   "outputs": [
    {
     "data": {
      "image/png": "[encoded data removed]",
      "text/plain": [
       "<Figure size 720x360 with 1 Axes>"
      ]
     },
     "metadata": {
      "needs_background": "light"
     },
     "output_type": "display_data"
    }
   ],
   "source": [
    "ax1=p3.plot(x='Date',y='price',kind='line',figsize=(10,5),title= 'Price Volatility from Nov.2018 to Jan.2020')"
   ]
  },
  {
   "cell_type": "markdown",
   "metadata": {},
   "source": [
    "From the line chart above, we can see that 2019 June has the lowest price, so we can forcus on exploring data in 2019 June."
   ]
  },
  {
   "cell_type": "code",
   "execution_count": 11,
   "metadata": {},
   "outputs": [
    {
     "data": {
      "image/png": "[encoded data removed]",
      "text/plain": [
       "<Figure size 720x360 with 1 Axes>"
      ]
     },
     "metadata": {
      "needs_background": "light"
     },
     "output_type": "display_data"
    }
   ],
   "source": [
    "year19_Q2=p3[p3['month']==6]\n",
    "ax1=year19_Q2.plot(kind='line',x='Date',y='price',figsize=(10,5),color=\"orange\",marker='o',title='Price in June')"
   ]
  },
  {
   "cell_type": "markdown",
   "metadata": {},
   "source": [
    "## Conclusion"
   ]
  },
  {
   "cell_type": "markdown",
   "metadata": {},
   "source": [
    "June,12,2019 has the lowest price, which means that the best order time is on June,12,2019. However, due to lack of enough sample date, it is just the preliminary conclusion. If we have bigger historical data we can perform a further analysis. \n",
    "\n",
    "Without considering order cost, inventory holding fee and transpotation fee ect, we could draw a conclusion that 06-12-2020 is the best time to place order for the rest of 6 months to minimize supply chian cost. In this case,we need 3000 lbs per week,which means that we need  72000 lbs for next 6 months. "
   ]
  }
 ],
 "metadata": {
  "kernelspec": {
   "display_name": "Python 2",
   "language": "python",
   "name": "python2"
  },
  "language_info": {
   "codemirror_mode": {
    "name": "ipython",
    "version": 2
   },
   "file_extension": ".py",
   "mimetype": "text/x-python",
   "name": "python",
   "nbconvert_exporter": "python",
   "pygments_lexer": "ipython2",
   "version": "2.7.16"
  }
 },
 "nbformat": 4,
 "nbformat_minor": 2
}
